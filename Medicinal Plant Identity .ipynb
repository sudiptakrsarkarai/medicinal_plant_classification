{
 "cells": [
  {
   "cell_type": "markdown",
   "id": "e40ae7de",
   "metadata": {},
   "source": [
    "# Importing all the necessary libraries"
   ]
  },
  {
   "cell_type": "code",
   "execution_count": 1,
   "id": "4b8055fe",
   "metadata": {},
   "outputs": [],
   "source": [
    "\n",
    "import tensorflow as tf\n",
    "from tensorflow import keras\n",
    "from tensorflow.keras import layers\n",
    "from tensorflow.keras.preprocessing.image import ImageDataGenerator"
   ]
  },
  {
   "cell_type": "markdown",
   "id": "e409602a",
   "metadata": {},
   "source": [
    "# Loading Data"
   ]
  },
  {
   "cell_type": "code",
   "execution_count": 2,
   "id": "cee00f39",
   "metadata": {},
   "outputs": [
    {
     "name": "stdout",
     "output_type": "stream",
     "text": [
      "Found 6900 files belonging to 80 classes.\n",
      "Using 5520 files for training.\n"
     ]
    }
   ],
   "source": [
    "data = tf.keras.utils.image_dataset_from_directory(\n",
    "    'D:/Medi_train',\n",
    "    image_size=(224, 224),\n",
    "    batch_size=32,\n",
    "    validation_split=0.2, \n",
    "    subset=\"training\",      \n",
    "    seed=42\n",
    ")"
   ]
  },
  {
   "cell_type": "markdown",
   "id": "0c29c5ec",
   "metadata": {},
   "source": [
    "***Normalizing / Scaling the data for the model***"
   ]
  },
  {
   "cell_type": "code",
   "execution_count": 3,
   "id": "41ce7867",
   "metadata": {},
   "outputs": [],
   "source": [
    "\n",
    "def process(image, label):\n",
    "    image = tf.cast(image / 255., tf.float32)\n",
    "    return image, label"
   ]
  },
  {
   "cell_type": "markdown",
   "id": "3d49dbf0",
   "metadata": {},
   "source": [
    "***Creating object for ImageDataGenerator for data augmentation***"
   ]
  },
  {
   "cell_type": "code",
   "execution_count": 4,
   "id": "181934a8",
   "metadata": {},
   "outputs": [],
   "source": [
    "\n",
    "data_augmentation = ImageDataGenerator(\n",
    "    rotation_range=20,\n",
    "    width_shift_range=0.2,\n",
    "    height_shift_range=0.2,\n",
    "    horizontal_flip=True,\n",
    "    zoom_range=0.2\n",
    ")"
   ]
  },
  {
   "cell_type": "markdown",
   "id": "505faa64",
   "metadata": {},
   "source": [
    "***Using ResNet50(Transfer Learning Model) for Increasing the model accuracy***"
   ]
  },
  {
   "cell_type": "code",
   "execution_count": 5,
   "id": "24650223",
   "metadata": {},
   "outputs": [],
   "source": [
    "resnet_model = keras.applications.ResNet50(\n",
    "    include_top=False,  \n",
    "    input_shape=(224, 224, 3), \n",
    ")"
   ]
  },
  {
   "cell_type": "markdown",
   "id": "e0ed05f1",
   "metadata": {},
   "source": [
    "***Creating the model layers like GlobalAveragePooling2D ***"
   ]
  },
  {
   "cell_type": "code",
   "execution_count": 6,
   "id": "b663b5df",
   "metadata": {},
   "outputs": [],
   "source": [
    "\n",
    "num_classes = len(data.class_names)\n",
    "top_layers = keras.Sequential([\n",
    "    layers.GlobalAveragePooling2D(),\n",
    "    layers.Dense(256, activation='relu'),\n",
    "    layers.Dropout(0.2),\n",
    "    layers.Dense(num_classes, activation='softmax')\n",
    "])"
   ]
  },
  {
   "cell_type": "markdown",
   "id": "bc4c4d77",
   "metadata": {},
   "source": [
    "***Combining the base ResNet model and the custom top layers***"
   ]
  },
  {
   "cell_type": "code",
   "execution_count": 7,
   "id": "580efca8",
   "metadata": {},
   "outputs": [],
   "source": [
    "model = keras.Sequential([\n",
    "    resnet_model,\n",
    "    top_layers\n",
    "])"
   ]
  },
  {
   "cell_type": "code",
   "execution_count": 8,
   "id": "5636a1dd",
   "metadata": {},
   "outputs": [],
   "source": [
    "model.compile(\n",
    "    optimizer='adam',\n",
    "    loss='sparse_categorical_crossentropy',\n",
    "    metrics=['accuracy']\n",
    ")"
   ]
  },
  {
   "cell_type": "code",
   "execution_count": 9,
   "id": "5aee1f06",
   "metadata": {},
   "outputs": [
    {
     "name": "stdout",
     "output_type": "stream",
     "text": [
      "Epoch 1/15\n",
      "345/345 [==============================] - 885s 3s/step - loss: 4.2824 - accuracy: 0.0473 - val_loss: 4.4330 - val_accuracy: 0.0386\n",
      "Epoch 2/15\n",
      "345/345 [==============================] - 945s 3s/step - loss: 3.9246 - accuracy: 0.0832 - val_loss: 357.2675 - val_accuracy: 0.0391\n",
      "Epoch 3/15\n",
      "345/345 [==============================] - 933s 3s/step - loss: 3.5197 - accuracy: 0.1406 - val_loss: 3.6516 - val_accuracy: 0.1232\n",
      "Epoch 4/15\n",
      "345/345 [==============================] - 893s 3s/step - loss: 3.3401 - accuracy: 0.1696 - val_loss: 3.4307 - val_accuracy: 0.1678\n",
      "Epoch 5/15\n",
      "345/345 [==============================] - 795s 2s/step - loss: 3.0652 - accuracy: 0.2295 - val_loss: 2.6810 - val_accuracy: 0.3053\n",
      "Epoch 6/15\n",
      "345/345 [==============================] - 807s 2s/step - loss: 2.7069 - accuracy: 0.2846 - val_loss: 2.3847 - val_accuracy: 0.3826\n",
      "Epoch 7/15\n",
      "345/345 [==============================] - 823s 2s/step - loss: 2.4728 - accuracy: 0.3366 - val_loss: 1.9710 - val_accuracy: 0.4585\n",
      "Epoch 8/15\n",
      "345/345 [==============================] - 866s 3s/step - loss: 2.2807 - accuracy: 0.3792 - val_loss: 2.7560 - val_accuracy: 0.2993\n",
      "Epoch 9/15\n",
      "345/345 [==============================] - 1056s 3s/step - loss: 2.0581 - accuracy: 0.4317 - val_loss: 2.2073 - val_accuracy: 0.4152\n",
      "Epoch 10/15\n",
      "345/345 [==============================] - 1209s 4s/step - loss: 1.8176 - accuracy: 0.4857 - val_loss: 1.8019 - val_accuracy: 0.5667\n",
      "Epoch 11/15\n",
      "345/345 [==============================] - 955s 3s/step - loss: 1.6688 - accuracy: 0.5236 - val_loss: 1.2783 - val_accuracy: 0.6462\n",
      "Epoch 12/15\n",
      "345/345 [==============================] - 923s 3s/step - loss: 1.4830 - accuracy: 0.5746 - val_loss: 1.1534 - val_accuracy: 0.6810\n",
      "Epoch 13/15\n",
      "345/345 [==============================] - 915s 3s/step - loss: 1.2815 - accuracy: 0.6158 - val_loss: 1.3959 - val_accuracy: 0.6377\n",
      "Epoch 14/15\n",
      "345/345 [==============================] - 937s 3s/step - loss: 1.1069 - accuracy: 0.6678 - val_loss: 1.0268 - val_accuracy: 0.6900\n",
      "Epoch 15/15\n",
      "345/345 [==============================] - 1038s 3s/step - loss: 0.9585 - accuracy: 0.7074 - val_loss: 0.7535 - val_accuracy: 0.7730\n"
     ]
    }
   ],
   "source": [
    "history = model.fit(\n",
    "    data,\n",
    "    epochs=15, \n",
    "    validation_data=(data)  \n",
    ")"
   ]
  },
  {
   "cell_type": "code",
   "execution_count": 10,
   "id": "d2741691",
   "metadata": {},
   "outputs": [
    {
     "name": "stderr",
     "output_type": "stream",
     "text": [
      "C:\\Users\\sudee\\AppData\\Roaming\\Python\\Python311\\site-packages\\keras\\src\\engine\\training.py:3000: UserWarning: You are saving your model as an HDF5 file via `model.save()`. This file format is considered legacy. We recommend using instead the native Keras format, e.g. `model.save('my_model.keras')`.\n",
      "  saving_api.save_model(\n"
     ]
    }
   ],
   "source": [
    "from tensorflow.keras.models import load_model\n",
    "\n",
    "# Save the trained model to a file\n",
    "model.save(\"med1_leaf_model.h5\")"
   ]
  },
  {
   "cell_type": "code",
   "execution_count": 11,
   "id": "036ddb35",
   "metadata": {},
   "outputs": [],
   "source": [
    "import os\n",
    "#os.listdir('D:/Dataset/med')"
   ]
  },
  {
   "cell_type": "code",
   "execution_count": 12,
   "id": "1c4de98e",
   "metadata": {},
   "outputs": [
    {
     "name": "stdout",
     "output_type": "stream",
     "text": [
      "345/345 [==============================] - 112s 321ms/step - loss: 0.7535 - accuracy: 0.7730\n",
      "Test accuracy: 0.7730072736740112\n"
     ]
    }
   ],
   "source": [
    "test_loss, test_acc = model.evaluate(data)\n",
    "print(\"Test accuracy:\", test_acc)"
   ]
  },
  {
   "cell_type": "code",
   "execution_count": 15,
   "id": "a0c73409",
   "metadata": {},
   "outputs": [],
   "source": []
  },
  {
   "cell_type": "code",
   "execution_count": null,
   "id": "957d3469",
   "metadata": {},
   "outputs": [],
   "source": []
  }
 ],
 "metadata": {
  "kernelspec": {
   "display_name": "Python 3 (ipykernel)",
   "language": "python",
   "name": "python3"
  },
  "language_info": {
   "codemirror_mode": {
    "name": "ipython",
    "version": 3
   },
   "file_extension": ".py",
   "mimetype": "text/x-python",
   "name": "python",
   "nbconvert_exporter": "python",
   "pygments_lexer": "ipython3",
   "version": "3.11.3"
  }
 },
 "nbformat": 4,
 "nbformat_minor": 5
}
